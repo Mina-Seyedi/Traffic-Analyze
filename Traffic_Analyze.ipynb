{
 "cells": [
  {
   "cell_type": "markdown",
   "source": [
    "**Read File Name**"
   ],
   "metadata": {
    "collapsed": false
   }
  },
  {
   "cell_type": "code",
   "execution_count": 1,
   "metadata": {
    "collapsed": true
   },
   "outputs": [],
   "source": [
    "import os\n",
    "\n",
    "folder_path = 'E:\\_HTerm\\Road Construction\\پروژه\\Traffic'\n",
    "file_names = os.listdir(folder_path)\n",
    "file_name_list = []\n",
    "\n",
    "for file_name in file_names:\n",
    "    if file_name[-4:] == '.rar':\n",
    "        file_name_list.append(file_name)"
   ]
  },
  {
   "cell_type": "markdown",
   "source": [
    "**UnRar and Read DesiredFile**"
   ],
   "metadata": {
    "collapsed": false
   }
  },
  {
   "cell_type": "code",
   "execution_count": 2,
   "outputs": [],
   "source": [
    "from unrar import rarfile\n",
    "from unrar.rarfile import BadRarFile\n",
    "import os\n",
    "\n",
    "desired_file_name_1 = '21 ‫استان اصفهان‬\\‫حجم تردد روزانه‬\\Daily 213101'\n",
    "desired_file_name_2 = '21 ‫استان اصفهان‬\\‫حجم تردد روزانه‬\\Daily 213151'\n",
    "folder_path = 'E:\\\\_HTerm\\\\Road Construction\\\\پروژه\\\\Traffic'\n",
    "desired_path_1 = []\n",
    "desired_path_2 = []\n",
    "\n",
    "for file_name in file_name_list:\n",
    "    if file_name.endswith('.rar'):\n",
    "        rar_path = os.path.join(folder_path, file_name)\n",
    "        out_path = os.path.join(folder_path, 'file', file_name)\n",
    "        try:\n",
    "            rar = rarfile.RarFile(rar_path)\n",
    "            for file_entry in rar.infolist():\n",
    "                if desired_file_name_1 in file_entry.filename:\n",
    "                    rar.extract(file_entry, out_path)\n",
    "                    desired_path_1.append(os.path.join(out_path, file_entry.filename))\n",
    "                if desired_file_name_2 in file_entry.filename:\n",
    "                    rar.extract(file_entry, out_path)\n",
    "                    desired_path_2.append(os.path.join(out_path, file_entry.filename))\n",
    "        except BadRarFile as badrar:\n",
    "            print(\"No rar file found!\", badrar)"
   ],
   "metadata": {
    "collapsed": false,
    "pycharm": {
     "name": "#%%\n"
    }
   }
  },
  {
   "cell_type": "markdown",
   "source": [
    "**Read Excel Data**"
   ],
   "metadata": {
    "collapsed": false
   }
  },
  {
   "cell_type": "code",
   "execution_count": 3,
   "outputs": [],
   "source": [
    "import pandas as pd\n",
    "\n",
    "start_time1 = []\n",
    "class1_1, class1_2, class1_3, class1_4, class1_5 = [], [], [], [], []\n",
    "\n",
    "start_time2 = []\n",
    "class2_1, class2_2, class2_3, class2_4, class2_5 = [], [], [], [], []\n",
    "\n",
    "for path in desired_path_1:\n",
    "    excel_data = pd.read_excel(path, header=None).drop([0, 1])\n",
    "    start_time1.extend(list(excel_data[:][2]))\n",
    "    class1_1.extend(list(excel_data[:][6]))\n",
    "    class1_2.extend(list(excel_data[:][7]))\n",
    "    class1_3.extend(list(excel_data[:][8]))\n",
    "    class1_4.extend(list(excel_data[:][9]))\n",
    "    class1_5.extend(list(excel_data[:][10]))\n",
    "\n",
    "for path in desired_path_2:\n",
    "    excel_data = pd.read_excel(path, header=None).drop([0, 1])\n",
    "    start_time2.extend(list(excel_data[:][2]))\n",
    "    class2_1.extend(list(excel_data[:][6]))\n",
    "    class2_2.extend(list(excel_data[:][7]))\n",
    "    class2_3.extend(list(excel_data[:][8]))\n",
    "    class2_4.extend(list(excel_data[:][9]))\n",
    "    class2_5.extend(list(excel_data[:][10]))"
   ],
   "metadata": {
    "collapsed": false,
    "pycharm": {
     "name": "#%%\n"
    }
   }
  },
  {
   "cell_type": "markdown",
   "source": [
    "**Convert Date to Seconds**"
   ],
   "metadata": {
    "collapsed": false
   }
  },
  {
   "cell_type": "code",
   "execution_count": 4,
   "outputs": [],
   "source": [
    "import jdatetime\n",
    "from datetime import datetime\n",
    "\n",
    "def convert_date_to_seconds(date_string):\n",
    "    Shamsi_datetime = jdatetime.datetime.strptime(date_string, '%Y/%m/%d %H:%M:%S')\n",
    "    gregorian_datetime = Shamsi_datetime.togregorian()\n",
    "    seconds = int(gregorian_datetime.timestamp())\n",
    "    return seconds\n",
    "\n",
    "for i  in range(len(start_time1)):\n",
    "    start_time1[i] = convert_date_to_seconds(start_time1[i])\n",
    "\n",
    "for i  in range(len(start_time2)):\n",
    "    start_time2[i] = convert_date_to_seconds(start_time2[i])"
   ],
   "metadata": {
    "collapsed": false,
    "pycharm": {
     "name": "#%%\n"
    }
   }
  },
  {
   "cell_type": "markdown",
   "source": [
    "**ClassA and Class B**"
   ],
   "metadata": {
    "collapsed": false
   }
  },
  {
   "cell_type": "code",
   "execution_count": 5,
   "outputs": [],
   "source": [
    "class1_A = [x + y + z for x, y, z in zip(class1_1, class1_2, class1_3)]\n",
    "class1_B = [x + y for x, y in zip(class1_4, class1_5)]\n",
    "\n",
    "class2_A = [x + y + z for x, y, z in zip(class2_1, class2_2, class2_3)]\n",
    "class2_B = [x + y for x, y in zip(class2_4, class2_5)]"
   ],
   "metadata": {
    "collapsed": false,
    "pycharm": {
     "name": "#%%\n"
    }
   }
  },
  {
   "cell_type": "markdown",
   "source": [
    "**Create Data Table**"
   ],
   "metadata": {
    "collapsed": false
   }
  },
  {
   "cell_type": "code",
   "execution_count": 6,
   "outputs": [],
   "source": [
    "import pandas as pd\n",
    "\n",
    "data1 = {'Datetime': start_time1,\n",
    "         'Class A': class1_A,\n",
    "         'Class B': class1_B}\n",
    "\n",
    "df1 = pd.DataFrame(data1)\n",
    "\n",
    "data2 = {'Datetime': start_time2,\n",
    "         'Class A': class2_A,\n",
    "         'Class B': class2_B}\n",
    "\n",
    "df2 = pd.DataFrame(data2)"
   ],
   "metadata": {
    "collapsed": false,
    "pycharm": {
     "name": "#%%\n"
    }
   }
  },
  {
   "cell_type": "markdown",
   "source": [
    "**Interpolate 10 Years Data**"
   ],
   "metadata": {
    "collapsed": false
   }
  },
  {
   "cell_type": "code",
   "execution_count": null,
   "outputs": [],
   "source": [],
   "metadata": {
    "collapsed": false,
    "pycharm": {
     "name": "#%%\n"
    }
   }
  }
 ],
 "metadata": {
  "kernelspec": {
   "display_name": "Python 3",
   "language": "python",
   "name": "python3"
  },
  "language_info": {
   "codemirror_mode": {
    "name": "ipython",
    "version": 2
   },
   "file_extension": ".py",
   "mimetype": "text/x-python",
   "name": "python",
   "nbconvert_exporter": "python",
   "pygments_lexer": "ipython2",
   "version": "2.7.6"
  }
 },
 "nbformat": 4,
 "nbformat_minor": 0
}